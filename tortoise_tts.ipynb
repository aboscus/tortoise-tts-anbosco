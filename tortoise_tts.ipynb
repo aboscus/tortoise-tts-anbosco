{
 "cells": [
  {
   "cell_type": "markdown",
   "metadata": {
    "application/vnd.databricks.v1+cell": {
     "cellMetadata": {},
     "inputWidgets": {},
     "nuid": "23c7d566-63e0-498f-baec-eccc01c6355c",
     "showTitle": false,
     "title": ""
    },
    "id": "_pIZ3ZXNp7cf"
   },
   "source": [
    "Welcome to Tortoise! 🐢🐢🐢🐢\n",
    "\n",
    "Before you begin, I **strongly** recommend you turn on a GPU runtime.\n",
    "\n",
    "There's a reason this is called \"Tortoise\" - this model takes up to a minute to perform inference for a single sentence on a GPU. Expect waits on the order of hours on a CPU."
   ]
  },
  {
   "cell_type": "code",
   "execution_count": 0,
   "metadata": {
    "application/vnd.databricks.v1+cell": {
     "cellMetadata": {
      "byteLimit": 2048000,
      "rowLimit": 10000
     },
     "inputWidgets": {},
     "nuid": "cb86303b-f556-4185-bdd2-eb4a1bd63e3a",
     "showTitle": false,
     "title": ""
    },
    "id": "JrK20I32grP6"
   },
   "outputs": [],
   "source": [
    "#first follow the instructions in the README.md file under Local Installation\n",
    "!pip3 install -r requirements.txt\n",
    "# !python3 setup.py install"
   ]
  },
  {
   "cell_type": "code",
   "execution_count": 0,
   "metadata": {
    "application/vnd.databricks.v1+cell": {
     "cellMetadata": {
      "byteLimit": 2048000,
      "rowLimit": 10000
     },
     "inputWidgets": {},
     "nuid": "66c9e8be-2e16-4b3e-a1d2-7093cb0eac02",
     "showTitle": false,
     "title": ""
    },
    "id": "Gen09NM4hONQ"
   },
   "outputs": [],
   "source": [
    "# Imports used through the rest of the notebook.\n",
    "import torch\n",
    "import torchaudio\n",
    "import torch.nn as nn\n",
    "import torch.nn.functional as F\n",
    "\n",
    "import IPython\n",
    "\n",
    "from tortoise.api import TextToSpeech\n",
    "from tortoise.utils.audio import load_audio, load_voice, load_voices\n",
    "\n",
    "# This will download all the models used by Tortoise from the HF hub.\n",
    "# tts = TextToSpeech()\n",
    "# If you want to use deepspeed the pass use_deepspeed=True nearly 2x faster than normal\n",
    "tts = TextToSpeech(use_deepspeed=False, kv_cache=True)"
   ]
  },
  {
   "cell_type": "code",
   "execution_count": 0,
   "metadata": {
    "application/vnd.databricks.v1+cell": {
     "cellMetadata": {
      "byteLimit": 2048000,
      "rowLimit": 10000
     },
     "inputWidgets": {},
     "nuid": "6dc4c003-7ba3-45a9-91bd-47245e309085",
     "showTitle": false,
     "title": ""
    },
    "id": "bt_aoxONjfL2"
   },
   "outputs": [],
   "source": [
    "# This is the text that will be spoken.\n",
    "\n",
    "long_text = \"\"\"\n",
    "Good morning/evening to all our listeners. Welcome to Geopop, the place where we explore and discuss current topics and global issues. Today, we will delve into the complex and longstanding conflict between Israel and Palestine.\n",
    "\n",
    "To fully understand the conflict, it is essential to examine the historical context. The issue dates back many decades, with deep roots in the struggle for territorial control and coexistence between two peoples.\n",
    "\n",
    "The heart of the dispute is the land, with both states claiming rights to specific areas. Israel, created in 1948, is recognized by many countries, but Palestine seeks its own independence and international recognition.\n",
    "\n",
    "The conflict has been characterized by episodes of violence and constant tensions. Both parties have experienced suffering and loss of human lives, creating a cycle of revenge that has made reaching a lasting solution challenging.\n",
    "\n",
    "Over the years, various attempts have been made to resolve the conflict through peace negotiations, but so far, a definitive solution has not been achieved. The international community continues to work to facilitate dialogue and promote lasting peace.\n",
    "\n",
    "In conclusion, the conflict between Israel and Palestine is a complex and delicate issue that requires a balanced and multilateral approach. The hope is that, through dialogue and mutual understanding, we can envision a future where both peoples can coexist peacefully.\n",
    "\n",
    "Thank you for listening. Keep following us on Geopop for further insights into global issues. Until the next episode!\n",
    "\"\"\"\n",
    "\n",
    "# Here's something for the poetically inclined.. (set text=)\n",
    "\"\"\"\n",
    "Then took the other, as just as fair,\n",
    "And having perhaps the better claim,\n",
    "Because it was grassy and wanted wear;\n",
    "Though as for that the passing there\n",
    "Had worn them really about the same,\"\"\"\n",
    "\n",
    "# Pick a \"preset mode\" to determine quality. Options: {\"ultra_fast\", \"fast\" (default), \"standard\", \"high_quality\"}. See docs in api.py\n",
    "preset = \"ultra_fast\""
   ]
  },
  {
   "cell_type": "code",
   "execution_count": 0,
   "metadata": {
    "application/vnd.databricks.v1+cell": {
     "cellMetadata": {
      "byteLimit": 2048000,
      "rowLimit": 10000
     },
     "inputWidgets": {},
     "nuid": "a895cf4c-a1df-42b0-9cf4-be2ab9ab3fb8",
     "showTitle": false,
     "title": ""
    },
    "id": "SSleVnRAiEE2"
   },
   "outputs": [],
   "source": [
    "# Tortoise will attempt to mimic voices you provide. It comes pre-packaged\n",
    "# with some voices you might recognize.\n",
    "\n",
    "# Let's list all the voices available. These are just some random clips I've gathered\n",
    "# from the internet as well as a few voices from the training dataset.\n",
    "# Feel free to add your own clips to the voices/ folder.\n",
    "%ls tortoise/voices\n",
    "\n",
    "IPython.display.Audio('tortoise/voices/tom/1.wav')"
   ]
  },
  {
   "cell_type": "markdown",
   "metadata": {
    "application/vnd.databricks.v1+cell": {
     "cellMetadata": {},
     "inputWidgets": {},
     "nuid": "ec1ae751-b738-4e9c-bbd0-5ec2d951f625",
     "showTitle": false,
     "title": ""
    }
   },
   "source": [
    "## Single Text"
   ]
  },
  {
   "cell_type": "code",
   "execution_count": 0,
   "metadata": {
    "application/vnd.databricks.v1+cell": {
     "cellMetadata": {
      "byteLimit": 2048000,
      "rowLimit": 10000
     },
     "inputWidgets": {},
     "nuid": "43556172-1dd6-445d-98bb-ed4387bc8b55",
     "showTitle": false,
     "title": ""
    },
    "id": "KEXOKjIvn6NW"
   },
   "outputs": [],
   "source": [
    "# Pick one of the voices from the output above\n",
    "voice = 'tom'\n",
    "text = \"Joining two modalities results in a surprising increase in generalization! What would happen if we combined them all?\"\n",
    "# Load it and send it through Tortoise.\n",
    "voice_samples, conditioning_latents = load_voice(voice)\n",
    "gen = tts.tts_with_preset(long_text, voice_samples=voice_samples, conditioning_latents=conditioning_latents, \n",
    "                          preset=preset)\n",
    "torchaudio.save('generated.wav', gen.squeeze(0).cpu(), 24000)\n",
    "IPython.display.Audio('generated.wav')"
   ]
  },
  {
   "cell_type": "code",
   "execution_count": 0,
   "metadata": {
    "application/vnd.databricks.v1+cell": {
     "cellMetadata": {},
     "inputWidgets": {},
     "nuid": "d4f47458-09a6-4b8e-9eee-f96d3a2d3785",
     "showTitle": false,
     "title": ""
    },
    "id": "16Xs2SSC3BXa"
   },
   "outputs": [],
   "source": [
    "# Tortoise can also generate speech using a random voice. The voice changes each time you execute this!\n",
    "# (Note: random voices can be prone to strange utterances)\n",
    "gen = tts.tts_with_preset(text, voice_samples=None, conditioning_latents=None, preset=preset)\n",
    "torchaudio.save('generated.wav', gen.squeeze(0).cpu(), 24000)\n",
    "IPython.display.Audio('generated.wav')"
   ]
  },
  {
   "cell_type": "code",
   "execution_count": 0,
   "metadata": {
    "application/vnd.databricks.v1+cell": {
     "cellMetadata": {},
     "inputWidgets": {},
     "nuid": "eda2a7a8-8bb6-4a78-8001-93d5784c61fa",
     "showTitle": false,
     "title": ""
    },
    "id": "fYTk8KUezUr5"
   },
   "outputs": [],
   "source": [
    "# You can also combine conditioning voices. Combining voices produces a new voice\n",
    "# with traits from all the parents.\n",
    "#\n",
    "# Lets see what it would sound like if Picard and Kirk had a kid with a penchant for philosophy:\n",
    "voice_samples, conditioning_latents = load_voices(['pat', 'william'])\n",
    "\n",
    "gen = tts.tts_with_preset(\"They used to say that if man was meant to fly, he’d have wings. But he did fly. He discovered he had to.\", \n",
    "                          voice_samples=None, conditioning_latents=None, preset=preset)\n",
    "torchaudio.save('captain_kirkard.wav', gen.squeeze(0).cpu(), 24000)\n",
    "IPython.display.Audio('captain_kirkard.wav')"
   ]
  },
  {
   "cell_type": "code",
   "execution_count": 0,
   "metadata": {
    "application/vnd.databricks.v1+cell": {
     "cellMetadata": {},
     "inputWidgets": {},
     "nuid": "df623c84-4ceb-4465-bcc1-7002ab61c814",
     "showTitle": false,
     "title": ""
    },
    "id": "t66yqWgu68KL"
   },
   "outputs": [],
   "source": [
    "del tts  # Will break other cells, but necessary to conserve RAM if you want to run this cell.\n",
    "\n",
    "# Tortoise comes with some scripts that does a lot of the lifting for you. For example,\n",
    "# read.py will read a text file for you.\n",
    "!python3 tortoise/read.py --voice=train_atkins --textfile=tortoise/data/riding_hood.txt --preset=ultra_fast --output_path=.\n",
    "\n",
    "IPython.display.Audio('train_atkins/combined.wav')\n",
    "# This will take awhile.."
   ]
  },
  {
   "cell_type": "markdown",
   "metadata": {
    "application/vnd.databricks.v1+cell": {
     "cellMetadata": {},
     "inputWidgets": {},
     "nuid": "b9da8d34-d0ee-4ca3-ac55-19e25759cffb",
     "showTitle": false,
     "title": ""
    }
   },
   "source": [
    "## Long text"
   ]
  },
  {
   "cell_type": "code",
   "execution_count": 0,
   "metadata": {
    "application/vnd.databricks.v1+cell": {
     "cellMetadata": {
      "byteLimit": 2048000,
      "rowLimit": 10000
     },
     "inputWidgets": {},
     "nuid": "d4d1d484-19cd-4626-92d4-58476319cd6a",
     "showTitle": false,
     "title": ""
    }
   },
   "outputs": [],
   "source": [
    "import nltk\n",
    "from pyspark.sql import SparkSession\n",
    "from pyspark.sql.functions import monotonically_increasing_id\n",
    "\n",
    "# Download NLTK data for sentence tokenization\n",
    "nltk.download('punkt')\n",
    "\n",
    "from nltk.tokenize import sent_tokenize\n",
    "\n",
    "long_text = \"\"\"\n",
    "Good morning/evening to all our listeners. Welcome to Geopop, the place where we explore and discuss current topics and global issues. Today, we will delve into the complex and longstanding conflict between Israel and Palestine.\n",
    "\n",
    "To fully understand the conflict, it is essential to examine the historical context. The issue dates back many decades, with deep roots in the struggle for territorial control and coexistence between two peoples.\n",
    "\n",
    "The heart of the dispute is the land, with both states claiming rights to specific areas. Israel, created in 1948, is recognized by many countries, but Palestine seeks its own independence and international recognition.\n",
    "\n",
    "The conflict has been characterized by episodes of violence and constant tensions. Both parties have experienced suffering and loss of human lives, creating a cycle of revenge that has made reaching a lasting solution challenging.\n",
    "\n",
    "Over the years, various attempts have been made to resolve the conflict through peace negotiations, but so far, a definitive solution has not been achieved. The international community continues to work to facilitate dialogue and promote lasting peace.\n",
    "\n",
    "In conclusion, the conflict between Israel and Palestine is a complex and delicate issue that requires a balanced and multilateral approach. The hope is that, through dialogue and mutual understanding, we can envision a future where both peoples can coexist peacefully.\n",
    "\n",
    "Thank you for listening. Keep following us on Geopop for further insights into global issues. Until the next episode!\n",
    "\"\"\"\n",
    "\n",
    "\n",
    "# Use NLTK to tokenize the text into sentences\n",
    "sentences = sent_tokenize(long_text)\n",
    "\n",
    "# Create a Spark session\n",
    "\n",
    "# Create a DataFrame with sentences and their indices\n",
    "data = [(index, sentence) for index, sentence in enumerate(sentences)]\n",
    "df = spark.createDataFrame(data, [\"index\", \"sentence\"])\n",
    "\n",
    "# Add a unique ID column to the DataFrame\n",
    "df = df.withColumn(\"id\", monotonically_increasing_id())\n",
    "\n",
    "# Show the resulting DataFrame\n",
    "df.show(truncate=False)\n",
    "sentences = df.orderBy(\"index\").select(\"sentence\").rdd.flatMap(lambda x: x).collect()\n"
   ]
  },
  {
   "cell_type": "code",
   "execution_count": 0,
   "metadata": {
    "application/vnd.databricks.v1+cell": {
     "cellMetadata": {
      "byteLimit": 2048000,
      "rowLimit": 10000
     },
     "inputWidgets": {},
     "nuid": "3fd1de97-0185-4d41-a900-77cbb4d57e7a",
     "showTitle": false,
     "title": ""
    }
   },
   "outputs": [],
   "source": [
    "from tortoise.utils.text import split_and_recombine_text\n",
    "from time import time\n",
    "import os\n",
    "\n",
    "outpath = \"results/longform/\"\n",
    "seed=1\n",
    "voice_outpath = os.path.join(outpath, voice)\n",
    "os.makedirs(voice_outpath, exist_ok=True)\n",
    "\n",
    "voice_samples, conditioning_latents = load_voice(voice)\n",
    "\n",
    "all_parts = []\n",
    "for j, text in enumerate(sentences):\n",
    "    gen = tts.tts_with_preset(text, voice_samples=voice_samples, conditioning_latents=conditioning_latents,\n",
    "                              preset=\"fast\", k=1, use_deterministic_seed=seed)\n",
    "    gen = gen.squeeze(0).cpu()\n",
    "    torchaudio.save(os.path.join(voice_outpath, f'{j}.wav'), gen, 24000)\n",
    "    all_parts.append(gen)\n",
    "\n",
    "full_audio = torch.cat(all_parts, dim=-1)\n",
    "torchaudio.save(os.path.join(voice_outpath, 'combined.wav'), full_audio, 24000)\n",
    "IPython.display.Audio(os.path.join(voice_outpath, 'combined.wav'))"
   ]
  },
  {
   "cell_type": "code",
   "execution_count": 0,
   "metadata": {
    "application/vnd.databricks.v1+cell": {
     "cellMetadata": {},
     "inputWidgets": {},
     "nuid": "286ee0f4-c908-4eb9-bb60-7e5b829d79de",
     "showTitle": false,
     "title": ""
    }
   },
   "outputs": [],
   "source": []
  }
 ],
 "metadata": {
  "accelerator": "GPU",
  "application/vnd.databricks.v1+notebook": {
   "dashboards": [],
   "language": "python",
   "notebookMetadata": {
    "pythonIndentUnit": 4
   },
   "notebookName": "tortoise_tts",
   "widgets": {}
  },
  "colab": {
   "collapsed_sections": [],
   "name": "tortoise-tts.ipynb",
   "provenance": []
  },
  "kernelspec": {
   "display_name": "Python 3",
   "language": "python",
   "name": "python3"
  },
  "language_info": {
   "codemirror_mode": {
    "name": "ipython",
    "version": 3
   },
   "file_extension": ".py",
   "mimetype": "text/x-python",
   "name": "python",
   "nbconvert_exporter": "python",
   "pygments_lexer": "ipython3",
   "version": "3.9.16"
  }
 },
 "nbformat": 4,
 "nbformat_minor": 0
}
